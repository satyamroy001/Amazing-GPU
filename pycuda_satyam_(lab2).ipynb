{
  "nbformat": 4,
  "nbformat_minor": 0,
  "metadata": {
    "colab": {
      "name": "pycuda satyam (lab).ipynb",
      "provenance": [],
      "authorship_tag": "ABX9TyOZYzn4PVxzBNzcp+ZwLUEr",
      "include_colab_link": true
    },
    "kernelspec": {
      "name": "python3",
      "display_name": "Python 3"
    },
    "language_info": {
      "name": "python"
    },
    "accelerator": "GPU"
  },
  "cells": [
    {
      "cell_type": "markdown",
      "metadata": {
        "id": "view-in-github",
        "colab_type": "text"
      },
      "source": [
        "<a href=\"https://colab.research.google.com/github/satyamroy001/Amazing-GPU/blob/main/pycuda_satyam_(lab2).ipynb\" target=\"_parent\"><img src=\"https://colab.research.google.com/assets/colab-badge.svg\" alt=\"Open In Colab\"/></a>"
      ]
    },
    {
      "cell_type": "code",
      "source": [
        "!pip install pycuda"
      ],
      "metadata": {
        "colab": {
          "base_uri": "https://localhost:8080/"
        },
        "id": "hOm7Slr7IRa8",
        "outputId": "278f67c4-92b1-430f-bbf6-d6181c91415c"
      },
      "execution_count": 1,
      "outputs": [
        {
          "output_type": "stream",
          "name": "stdout",
          "text": [
            "Collecting pycuda\n",
            "  Downloading pycuda-2021.1.tar.gz (1.7 MB)\n",
            "\u001b[?25l\r\u001b[K     |▏                               | 10 kB 17.1 MB/s eta 0:00:01\r\u001b[K     |▍                               | 20 kB 12.1 MB/s eta 0:00:01\r\u001b[K     |▋                               | 30 kB 14.8 MB/s eta 0:00:01\r\u001b[K     |▉                               | 40 kB 10.5 MB/s eta 0:00:01\r\u001b[K     |█                               | 51 kB 5.1 MB/s eta 0:00:01\r\u001b[K     |█▏                              | 61 kB 6.0 MB/s eta 0:00:01\r\u001b[K     |█▍                              | 71 kB 5.6 MB/s eta 0:00:01\r\u001b[K     |█▋                              | 81 kB 4.6 MB/s eta 0:00:01\r\u001b[K     |█▊                              | 92 kB 5.1 MB/s eta 0:00:01\r\u001b[K     |██                              | 102 kB 5.6 MB/s eta 0:00:01\r\u001b[K     |██▏                             | 112 kB 5.6 MB/s eta 0:00:01\r\u001b[K     |██▍                             | 122 kB 5.6 MB/s eta 0:00:01\r\u001b[K     |██▌                             | 133 kB 5.6 MB/s eta 0:00:01\r\u001b[K     |██▊                             | 143 kB 5.6 MB/s eta 0:00:01\r\u001b[K     |███                             | 153 kB 5.6 MB/s eta 0:00:01\r\u001b[K     |███▏                            | 163 kB 5.6 MB/s eta 0:00:01\r\u001b[K     |███▎                            | 174 kB 5.6 MB/s eta 0:00:01\r\u001b[K     |███▌                            | 184 kB 5.6 MB/s eta 0:00:01\r\u001b[K     |███▊                            | 194 kB 5.6 MB/s eta 0:00:01\r\u001b[K     |████                            | 204 kB 5.6 MB/s eta 0:00:01\r\u001b[K     |████                            | 215 kB 5.6 MB/s eta 0:00:01\r\u001b[K     |████▎                           | 225 kB 5.6 MB/s eta 0:00:01\r\u001b[K     |████▌                           | 235 kB 5.6 MB/s eta 0:00:01\r\u001b[K     |████▊                           | 245 kB 5.6 MB/s eta 0:00:01\r\u001b[K     |████▉                           | 256 kB 5.6 MB/s eta 0:00:01\r\u001b[K     |█████                           | 266 kB 5.6 MB/s eta 0:00:01\r\u001b[K     |█████▎                          | 276 kB 5.6 MB/s eta 0:00:01\r\u001b[K     |█████▌                          | 286 kB 5.6 MB/s eta 0:00:01\r\u001b[K     |█████▋                          | 296 kB 5.6 MB/s eta 0:00:01\r\u001b[K     |█████▉                          | 307 kB 5.6 MB/s eta 0:00:01\r\u001b[K     |██████                          | 317 kB 5.6 MB/s eta 0:00:01\r\u001b[K     |██████▎                         | 327 kB 5.6 MB/s eta 0:00:01\r\u001b[K     |██████▍                         | 337 kB 5.6 MB/s eta 0:00:01\r\u001b[K     |██████▋                         | 348 kB 5.6 MB/s eta 0:00:01\r\u001b[K     |██████▉                         | 358 kB 5.6 MB/s eta 0:00:01\r\u001b[K     |███████                         | 368 kB 5.6 MB/s eta 0:00:01\r\u001b[K     |███████▏                        | 378 kB 5.6 MB/s eta 0:00:01\r\u001b[K     |███████▍                        | 389 kB 5.6 MB/s eta 0:00:01\r\u001b[K     |███████▋                        | 399 kB 5.6 MB/s eta 0:00:01\r\u001b[K     |███████▉                        | 409 kB 5.6 MB/s eta 0:00:01\r\u001b[K     |████████                        | 419 kB 5.6 MB/s eta 0:00:01\r\u001b[K     |████████▏                       | 430 kB 5.6 MB/s eta 0:00:01\r\u001b[K     |████████▍                       | 440 kB 5.6 MB/s eta 0:00:01\r\u001b[K     |████████▋                       | 450 kB 5.6 MB/s eta 0:00:01\r\u001b[K     |████████▊                       | 460 kB 5.6 MB/s eta 0:00:01\r\u001b[K     |█████████                       | 471 kB 5.6 MB/s eta 0:00:01\r\u001b[K     |█████████▏                      | 481 kB 5.6 MB/s eta 0:00:01\r\u001b[K     |█████████▍                      | 491 kB 5.6 MB/s eta 0:00:01\r\u001b[K     |█████████▌                      | 501 kB 5.6 MB/s eta 0:00:01\r\u001b[K     |█████████▊                      | 512 kB 5.6 MB/s eta 0:00:01\r\u001b[K     |██████████                      | 522 kB 5.6 MB/s eta 0:00:01\r\u001b[K     |██████████▏                     | 532 kB 5.6 MB/s eta 0:00:01\r\u001b[K     |██████████▎                     | 542 kB 5.6 MB/s eta 0:00:01\r\u001b[K     |██████████▌                     | 552 kB 5.6 MB/s eta 0:00:01\r\u001b[K     |██████████▊                     | 563 kB 5.6 MB/s eta 0:00:01\r\u001b[K     |███████████                     | 573 kB 5.6 MB/s eta 0:00:01\r\u001b[K     |███████████                     | 583 kB 5.6 MB/s eta 0:00:01\r\u001b[K     |███████████▎                    | 593 kB 5.6 MB/s eta 0:00:01\r\u001b[K     |███████████▌                    | 604 kB 5.6 MB/s eta 0:00:01\r\u001b[K     |███████████▊                    | 614 kB 5.6 MB/s eta 0:00:01\r\u001b[K     |███████████▉                    | 624 kB 5.6 MB/s eta 0:00:01\r\u001b[K     |████████████                    | 634 kB 5.6 MB/s eta 0:00:01\r\u001b[K     |████████████▎                   | 645 kB 5.6 MB/s eta 0:00:01\r\u001b[K     |████████████▌                   | 655 kB 5.6 MB/s eta 0:00:01\r\u001b[K     |████████████▋                   | 665 kB 5.6 MB/s eta 0:00:01\r\u001b[K     |████████████▉                   | 675 kB 5.6 MB/s eta 0:00:01\r\u001b[K     |█████████████                   | 686 kB 5.6 MB/s eta 0:00:01\r\u001b[K     |█████████████▎                  | 696 kB 5.6 MB/s eta 0:00:01\r\u001b[K     |█████████████▍                  | 706 kB 5.6 MB/s eta 0:00:01\r\u001b[K     |█████████████▋                  | 716 kB 5.6 MB/s eta 0:00:01\r\u001b[K     |█████████████▉                  | 727 kB 5.6 MB/s eta 0:00:01\r\u001b[K     |██████████████                  | 737 kB 5.6 MB/s eta 0:00:01\r\u001b[K     |██████████████▏                 | 747 kB 5.6 MB/s eta 0:00:01\r\u001b[K     |██████████████▍                 | 757 kB 5.6 MB/s eta 0:00:01\r\u001b[K     |██████████████▋                 | 768 kB 5.6 MB/s eta 0:00:01\r\u001b[K     |██████████████▉                 | 778 kB 5.6 MB/s eta 0:00:01\r\u001b[K     |███████████████                 | 788 kB 5.6 MB/s eta 0:00:01\r\u001b[K     |███████████████▏                | 798 kB 5.6 MB/s eta 0:00:01\r\u001b[K     |███████████████▍                | 808 kB 5.6 MB/s eta 0:00:01\r\u001b[K     |███████████████▋                | 819 kB 5.6 MB/s eta 0:00:01\r\u001b[K     |███████████████▊                | 829 kB 5.6 MB/s eta 0:00:01\r\u001b[K     |████████████████                | 839 kB 5.6 MB/s eta 0:00:01\r\u001b[K     |████████████████▏               | 849 kB 5.6 MB/s eta 0:00:01\r\u001b[K     |████████████████▍               | 860 kB 5.6 MB/s eta 0:00:01\r\u001b[K     |████████████████▌               | 870 kB 5.6 MB/s eta 0:00:01\r\u001b[K     |████████████████▊               | 880 kB 5.6 MB/s eta 0:00:01\r\u001b[K     |█████████████████               | 890 kB 5.6 MB/s eta 0:00:01\r\u001b[K     |█████████████████▏              | 901 kB 5.6 MB/s eta 0:00:01\r\u001b[K     |█████████████████▍              | 911 kB 5.6 MB/s eta 0:00:01\r\u001b[K     |█████████████████▌              | 921 kB 5.6 MB/s eta 0:00:01\r\u001b[K     |█████████████████▊              | 931 kB 5.6 MB/s eta 0:00:01\r\u001b[K     |██████████████████              | 942 kB 5.6 MB/s eta 0:00:01\r\u001b[K     |██████████████████▏             | 952 kB 5.6 MB/s eta 0:00:01\r\u001b[K     |██████████████████▎             | 962 kB 5.6 MB/s eta 0:00:01\r\u001b[K     |██████████████████▌             | 972 kB 5.6 MB/s eta 0:00:01\r\u001b[K     |██████████████████▊             | 983 kB 5.6 MB/s eta 0:00:01\r\u001b[K     |███████████████████             | 993 kB 5.6 MB/s eta 0:00:01\r\u001b[K     |███████████████████             | 1.0 MB 5.6 MB/s eta 0:00:01\r\u001b[K     |███████████████████▎            | 1.0 MB 5.6 MB/s eta 0:00:01\r\u001b[K     |███████████████████▌            | 1.0 MB 5.6 MB/s eta 0:00:01\r\u001b[K     |███████████████████▊            | 1.0 MB 5.6 MB/s eta 0:00:01\r\u001b[K     |███████████████████▉            | 1.0 MB 5.6 MB/s eta 0:00:01\r\u001b[K     |████████████████████            | 1.1 MB 5.6 MB/s eta 0:00:01\r\u001b[K     |████████████████████▎           | 1.1 MB 5.6 MB/s eta 0:00:01\r\u001b[K     |████████████████████▌           | 1.1 MB 5.6 MB/s eta 0:00:01\r\u001b[K     |████████████████████▋           | 1.1 MB 5.6 MB/s eta 0:00:01\r\u001b[K     |████████████████████▉           | 1.1 MB 5.6 MB/s eta 0:00:01\r\u001b[K     |█████████████████████           | 1.1 MB 5.6 MB/s eta 0:00:01\r\u001b[K     |█████████████████████▎          | 1.1 MB 5.6 MB/s eta 0:00:01\r\u001b[K     |█████████████████████▍          | 1.1 MB 5.6 MB/s eta 0:00:01\r\u001b[K     |█████████████████████▋          | 1.1 MB 5.6 MB/s eta 0:00:01\r\u001b[K     |█████████████████████▉          | 1.1 MB 5.6 MB/s eta 0:00:01\r\u001b[K     |██████████████████████          | 1.2 MB 5.6 MB/s eta 0:00:01\r\u001b[K     |██████████████████████▏         | 1.2 MB 5.6 MB/s eta 0:00:01\r\u001b[K     |██████████████████████▍         | 1.2 MB 5.6 MB/s eta 0:00:01\r\u001b[K     |██████████████████████▋         | 1.2 MB 5.6 MB/s eta 0:00:01\r\u001b[K     |██████████████████████▉         | 1.2 MB 5.6 MB/s eta 0:00:01\r\u001b[K     |███████████████████████         | 1.2 MB 5.6 MB/s eta 0:00:01\r\u001b[K     |███████████████████████▏        | 1.2 MB 5.6 MB/s eta 0:00:01\r\u001b[K     |███████████████████████▍        | 1.2 MB 5.6 MB/s eta 0:00:01\r\u001b[K     |███████████████████████▋        | 1.2 MB 5.6 MB/s eta 0:00:01\r\u001b[K     |███████████████████████▊        | 1.2 MB 5.6 MB/s eta 0:00:01\r\u001b[K     |████████████████████████        | 1.3 MB 5.6 MB/s eta 0:00:01\r\u001b[K     |████████████████████████▏       | 1.3 MB 5.6 MB/s eta 0:00:01\r\u001b[K     |████████████████████████▍       | 1.3 MB 5.6 MB/s eta 0:00:01\r\u001b[K     |████████████████████████▌       | 1.3 MB 5.6 MB/s eta 0:00:01\r\u001b[K     |████████████████████████▊       | 1.3 MB 5.6 MB/s eta 0:00:01\r\u001b[K     |█████████████████████████       | 1.3 MB 5.6 MB/s eta 0:00:01\r\u001b[K     |█████████████████████████▏      | 1.3 MB 5.6 MB/s eta 0:00:01\r\u001b[K     |█████████████████████████▎      | 1.3 MB 5.6 MB/s eta 0:00:01\r\u001b[K     |█████████████████████████▌      | 1.3 MB 5.6 MB/s eta 0:00:01\r\u001b[K     |█████████████████████████▊      | 1.4 MB 5.6 MB/s eta 0:00:01\r\u001b[K     |██████████████████████████      | 1.4 MB 5.6 MB/s eta 0:00:01\r\u001b[K     |██████████████████████████      | 1.4 MB 5.6 MB/s eta 0:00:01\r\u001b[K     |██████████████████████████▎     | 1.4 MB 5.6 MB/s eta 0:00:01\r\u001b[K     |██████████████████████████▌     | 1.4 MB 5.6 MB/s eta 0:00:01\r\u001b[K     |██████████████████████████▊     | 1.4 MB 5.6 MB/s eta 0:00:01\r\u001b[K     |██████████████████████████▉     | 1.4 MB 5.6 MB/s eta 0:00:01\r\u001b[K     |███████████████████████████     | 1.4 MB 5.6 MB/s eta 0:00:01\r\u001b[K     |███████████████████████████▎    | 1.4 MB 5.6 MB/s eta 0:00:01\r\u001b[K     |███████████████████████████▌    | 1.4 MB 5.6 MB/s eta 0:00:01\r\u001b[K     |███████████████████████████▋    | 1.5 MB 5.6 MB/s eta 0:00:01\r\u001b[K     |███████████████████████████▉    | 1.5 MB 5.6 MB/s eta 0:00:01\r\u001b[K     |████████████████████████████    | 1.5 MB 5.6 MB/s eta 0:00:01\r\u001b[K     |████████████████████████████▎   | 1.5 MB 5.6 MB/s eta 0:00:01\r\u001b[K     |████████████████████████████▍   | 1.5 MB 5.6 MB/s eta 0:00:01\r\u001b[K     |████████████████████████████▋   | 1.5 MB 5.6 MB/s eta 0:00:01\r\u001b[K     |████████████████████████████▉   | 1.5 MB 5.6 MB/s eta 0:00:01\r\u001b[K     |█████████████████████████████   | 1.5 MB 5.6 MB/s eta 0:00:01\r\u001b[K     |█████████████████████████████▏  | 1.5 MB 5.6 MB/s eta 0:00:01\r\u001b[K     |█████████████████████████████▍  | 1.5 MB 5.6 MB/s eta 0:00:01\r\u001b[K     |█████████████████████████████▋  | 1.6 MB 5.6 MB/s eta 0:00:01\r\u001b[K     |█████████████████████████████▉  | 1.6 MB 5.6 MB/s eta 0:00:01\r\u001b[K     |██████████████████████████████  | 1.6 MB 5.6 MB/s eta 0:00:01\r\u001b[K     |██████████████████████████████▏ | 1.6 MB 5.6 MB/s eta 0:00:01\r\u001b[K     |██████████████████████████████▍ | 1.6 MB 5.6 MB/s eta 0:00:01\r\u001b[K     |██████████████████████████████▋ | 1.6 MB 5.6 MB/s eta 0:00:01\r\u001b[K     |██████████████████████████████▊ | 1.6 MB 5.6 MB/s eta 0:00:01\r\u001b[K     |███████████████████████████████ | 1.6 MB 5.6 MB/s eta 0:00:01\r\u001b[K     |███████████████████████████████▏| 1.6 MB 5.6 MB/s eta 0:00:01\r\u001b[K     |███████████████████████████████▍| 1.6 MB 5.6 MB/s eta 0:00:01\r\u001b[K     |███████████████████████████████▌| 1.7 MB 5.6 MB/s eta 0:00:01\r\u001b[K     |███████████████████████████████▊| 1.7 MB 5.6 MB/s eta 0:00:01\r\u001b[K     |████████████████████████████████| 1.7 MB 5.6 MB/s eta 0:00:01\r\u001b[K     |████████████████████████████████| 1.7 MB 5.6 MB/s \n",
            "\u001b[?25h  Installing build dependencies ... \u001b[?25l\u001b[?25hdone\n",
            "  Getting requirements to build wheel ... \u001b[?25l\u001b[?25hdone\n",
            "    Preparing wheel metadata ... \u001b[?25l\u001b[?25hdone\n",
            "Collecting pytools>=2011.2\n",
            "  Downloading pytools-2022.1.1.tar.gz (67 kB)\n",
            "\u001b[K     |████████████████████████████████| 67 kB 5.6 MB/s \n",
            "\u001b[?25hCollecting mako\n",
            "  Downloading Mako-1.2.0-py3-none-any.whl (78 kB)\n",
            "\u001b[K     |████████████████████████████████| 78 kB 6.5 MB/s \n",
            "\u001b[?25hRequirement already satisfied: appdirs>=1.4.0 in /usr/local/lib/python3.7/dist-packages (from pycuda) (1.4.4)\n",
            "Collecting platformdirs>=2.2.0\n",
            "  Downloading platformdirs-2.5.1-py3-none-any.whl (14 kB)\n",
            "Requirement already satisfied: numpy>=1.6.0 in /usr/local/lib/python3.7/dist-packages (from pytools>=2011.2->pycuda) (1.21.5)\n",
            "Requirement already satisfied: importlib-metadata in /usr/local/lib/python3.7/dist-packages (from mako->pycuda) (4.11.2)\n",
            "Requirement already satisfied: MarkupSafe>=0.9.2 in /usr/local/lib/python3.7/dist-packages (from mako->pycuda) (2.0.1)\n",
            "Requirement already satisfied: typing-extensions>=3.6.4 in /usr/local/lib/python3.7/dist-packages (from importlib-metadata->mako->pycuda) (3.10.0.2)\n",
            "Requirement already satisfied: zipp>=0.5 in /usr/local/lib/python3.7/dist-packages (from importlib-metadata->mako->pycuda) (3.7.0)\n",
            "Building wheels for collected packages: pycuda, pytools\n",
            "  Building wheel for pycuda (PEP 517) ... \u001b[?25l\u001b[?25hdone\n",
            "  Created wheel for pycuda: filename=pycuda-2021.1-cp37-cp37m-linux_x86_64.whl size=626634 sha256=673c5a255dc4d83e97afc5a9da7b0769449645e0d367911f34341b4f7fee0d72\n",
            "  Stored in directory: /root/.cache/pip/wheels/c4/ef/49/dc6a5feb8d980b37c83d465ecab24949a6aa19458522a9e001\n",
            "  Building wheel for pytools (setup.py) ... \u001b[?25l\u001b[?25hdone\n",
            "  Created wheel for pytools: filename=pytools-2022.1.1-py2.py3-none-any.whl size=63859 sha256=1660b064db960b47726567afd5fb97eb7e6ba2ed20421b903db62c34da064e6b\n",
            "  Stored in directory: /root/.cache/pip/wheels/ee/a2/73/6f43d4f99ec69f7731617d44b68bf85aa66fc2da7b33cbe16b\n",
            "Successfully built pycuda pytools\n",
            "Installing collected packages: platformdirs, pytools, mako, pycuda\n",
            "Successfully installed mako-1.2.0 platformdirs-2.5.1 pycuda-2021.1 pytools-2022.1.1\n"
          ]
        }
      ]
    },
    {
      "cell_type": "code",
      "source": [
        "import pycuda.driver as drv"
      ],
      "metadata": {
        "id": "_4oQd49II_jz"
      },
      "execution_count": 2,
      "outputs": []
    },
    {
      "cell_type": "code",
      "source": [
        "drv.init()\n",
        "print('CUDA device query (PyCUDA version) \\n')\n",
        "\n",
        "print('Detected {} CUDA Capable device(s) \\n'.format(drv.Device.count()))"
      ],
      "metadata": {
        "colab": {
          "base_uri": "https://localhost:8080/"
        },
        "id": "kCa6Q8iEKGp8",
        "outputId": "47a1752f-3130-4796-dcb0-ea662e9a4d1b"
      },
      "execution_count": 3,
      "outputs": [
        {
          "output_type": "stream",
          "name": "stdout",
          "text": [
            "CUDA device query (PyCUDA version) \n",
            "\n",
            "Detected 1 CUDA Capable device(s) \n",
            "\n"
          ]
        }
      ]
    },
    {
      "cell_type": "code",
      "source": [
        "print(\"CODE WRITTEN BY SATYAM ROY (PYTHON 3)\")\n",
        "for i in range(drv.Device.count()):\n",
        "    \n",
        "    gpu_device = drv.Device(i)\n",
        "    print('Device {}: {}'.format( i, gpu_device.name() ) )\n",
        "    compute_capability = float( '%d.%d' % gpu_device.compute_capability() )\n",
        "    print('\\t Compute Capability: {}'.format(compute_capability))\n",
        "    print('\\t Total Memory: {} megabytes'.format(gpu_device.total_memory()//(1024**2)))\n",
        "    \n",
        "    # The following will give us all remaining device attributes as seen \n",
        "    # in the original deviceQuery.\n",
        "    # We set up a dictionary as such so that we can easily index\n",
        "    # the values using a string descriptor.\n",
        "    \n",
        "    device_attributes_tuples = gpu_device.get_attributes().items() \n",
        "    device_attributes = {}\n",
        "    \n",
        "    for k, v in device_attributes_tuples:\n",
        "        device_attributes[str(k)] = v\n",
        "    \n",
        "    num_mp = device_attributes['MULTIPROCESSOR_COUNT']\n",
        "    \n",
        "    # Cores per multiprocessor is not reported by the GPU!  \n",
        "    # We must use a lookup table based on compute capability.\n",
        "    # See the following:\n",
        "    # http://docs.nvidia.com/cuda/cuda-c-programming-guide/index.html#compute-capabilities\n",
        "    \n",
        "    cuda_cores_per_mp = { 5.0 : 128, 5.1 : 128, 5.2 : 128, 6.0 : 64, 6.1 : 128, 6.2 : 128}\n",
        "    \n",
        "    print('\\t ({}) Multiprocessors, ({}) CUDA Cores / Multiprocessor: {} CUDA Cores'.format(num_mp, cuda_cores_per_mp, cuda_cores_per_mp))\n",
        "    \n",
        "    device_attributes.pop('MULTIPROCESSOR_COUNT')\n",
        "    \n",
        "    for k in device_attributes.keys():\n",
        "        print('\\t {}: {}'.format(k, device_attributes[k]))"
      ],
      "metadata": {
        "colab": {
          "base_uri": "https://localhost:8080/"
        },
        "id": "zVKu60AGKhMr",
        "outputId": "1e74cfb5-dc5b-4aa5-c168-e6b7bf4023ad"
      },
      "execution_count": 4,
      "outputs": [
        {
          "output_type": "stream",
          "name": "stdout",
          "text": [
            "CODE WRITTEN BY SATYAM ROY (PYTHON 3)\n",
            "Device 0: Tesla K80\n",
            "\t Compute Capability: 3.7\n",
            "\t Total Memory: 11441 megabytes\n",
            "\t (13) Multiprocessors, ({5.0: 128, 5.1: 128, 5.2: 128, 6.0: 64, 6.1: 128, 6.2: 128}) CUDA Cores / Multiprocessor: {5.0: 128, 5.1: 128, 5.2: 128, 6.0: 64, 6.1: 128, 6.2: 128} CUDA Cores\n",
            "\t ASYNC_ENGINE_COUNT: 2\n",
            "\t CAN_MAP_HOST_MEMORY: 1\n",
            "\t CLOCK_RATE: 823500\n",
            "\t COMPUTE_CAPABILITY_MAJOR: 3\n",
            "\t COMPUTE_CAPABILITY_MINOR: 7\n",
            "\t COMPUTE_MODE: DEFAULT\n",
            "\t CONCURRENT_KERNELS: 1\n",
            "\t ECC_ENABLED: 1\n",
            "\t GLOBAL_L1_CACHE_SUPPORTED: 1\n",
            "\t GLOBAL_MEMORY_BUS_WIDTH: 384\n",
            "\t GPU_OVERLAP: 1\n",
            "\t INTEGRATED: 0\n",
            "\t KERNEL_EXEC_TIMEOUT: 0\n",
            "\t L2_CACHE_SIZE: 1572864\n",
            "\t LOCAL_L1_CACHE_SUPPORTED: 1\n",
            "\t MANAGED_MEMORY: 1\n",
            "\t MAXIMUM_SURFACE1D_LAYERED_LAYERS: 2048\n",
            "\t MAXIMUM_SURFACE1D_LAYERED_WIDTH: 65536\n",
            "\t MAXIMUM_SURFACE1D_WIDTH: 65536\n",
            "\t MAXIMUM_SURFACE2D_HEIGHT: 32768\n",
            "\t MAXIMUM_SURFACE2D_LAYERED_HEIGHT: 32768\n",
            "\t MAXIMUM_SURFACE2D_LAYERED_LAYERS: 2048\n",
            "\t MAXIMUM_SURFACE2D_LAYERED_WIDTH: 65536\n",
            "\t MAXIMUM_SURFACE2D_WIDTH: 65536\n",
            "\t MAXIMUM_SURFACE3D_DEPTH: 2048\n",
            "\t MAXIMUM_SURFACE3D_HEIGHT: 32768\n",
            "\t MAXIMUM_SURFACE3D_WIDTH: 65536\n",
            "\t MAXIMUM_SURFACECUBEMAP_LAYERED_LAYERS: 2046\n",
            "\t MAXIMUM_SURFACECUBEMAP_LAYERED_WIDTH: 32768\n",
            "\t MAXIMUM_SURFACECUBEMAP_WIDTH: 32768\n",
            "\t MAXIMUM_TEXTURE1D_LAYERED_LAYERS: 2048\n",
            "\t MAXIMUM_TEXTURE1D_LAYERED_WIDTH: 16384\n",
            "\t MAXIMUM_TEXTURE1D_LINEAR_WIDTH: 134217728\n",
            "\t MAXIMUM_TEXTURE1D_MIPMAPPED_WIDTH: 16384\n",
            "\t MAXIMUM_TEXTURE1D_WIDTH: 65536\n",
            "\t MAXIMUM_TEXTURE2D_ARRAY_HEIGHT: 16384\n",
            "\t MAXIMUM_TEXTURE2D_ARRAY_NUMSLICES: 2048\n",
            "\t MAXIMUM_TEXTURE2D_ARRAY_WIDTH: 16384\n",
            "\t MAXIMUM_TEXTURE2D_GATHER_HEIGHT: 16384\n",
            "\t MAXIMUM_TEXTURE2D_GATHER_WIDTH: 16384\n",
            "\t MAXIMUM_TEXTURE2D_HEIGHT: 65536\n",
            "\t MAXIMUM_TEXTURE2D_LINEAR_HEIGHT: 65000\n",
            "\t MAXIMUM_TEXTURE2D_LINEAR_PITCH: 1048544\n",
            "\t MAXIMUM_TEXTURE2D_LINEAR_WIDTH: 65000\n",
            "\t MAXIMUM_TEXTURE2D_MIPMAPPED_HEIGHT: 16384\n",
            "\t MAXIMUM_TEXTURE2D_MIPMAPPED_WIDTH: 16384\n",
            "\t MAXIMUM_TEXTURE2D_WIDTH: 65536\n",
            "\t MAXIMUM_TEXTURE3D_DEPTH: 4096\n",
            "\t MAXIMUM_TEXTURE3D_DEPTH_ALTERNATE: 16384\n",
            "\t MAXIMUM_TEXTURE3D_HEIGHT: 4096\n",
            "\t MAXIMUM_TEXTURE3D_HEIGHT_ALTERNATE: 2048\n",
            "\t MAXIMUM_TEXTURE3D_WIDTH: 4096\n",
            "\t MAXIMUM_TEXTURE3D_WIDTH_ALTERNATE: 2048\n",
            "\t MAXIMUM_TEXTURECUBEMAP_LAYERED_LAYERS: 2046\n",
            "\t MAXIMUM_TEXTURECUBEMAP_LAYERED_WIDTH: 16384\n",
            "\t MAXIMUM_TEXTURECUBEMAP_WIDTH: 16384\n",
            "\t MAX_BLOCK_DIM_X: 1024\n",
            "\t MAX_BLOCK_DIM_Y: 1024\n",
            "\t MAX_BLOCK_DIM_Z: 64\n",
            "\t MAX_GRID_DIM_X: 2147483647\n",
            "\t MAX_GRID_DIM_Y: 65535\n",
            "\t MAX_GRID_DIM_Z: 65535\n",
            "\t MAX_PITCH: 2147483647\n",
            "\t MAX_REGISTERS_PER_BLOCK: 65536\n",
            "\t MAX_REGISTERS_PER_MULTIPROCESSOR: 131072\n",
            "\t MAX_SHARED_MEMORY_PER_BLOCK: 49152\n",
            "\t MAX_SHARED_MEMORY_PER_MULTIPROCESSOR: 114688\n",
            "\t MAX_THREADS_PER_BLOCK: 1024\n",
            "\t MAX_THREADS_PER_MULTIPROCESSOR: 2048\n",
            "\t MEMORY_CLOCK_RATE: 2505000\n",
            "\t MULTI_GPU_BOARD: 0\n",
            "\t MULTI_GPU_BOARD_GROUP_ID: 0\n",
            "\t PCI_BUS_ID: 0\n",
            "\t PCI_DEVICE_ID: 4\n",
            "\t PCI_DOMAIN_ID: 0\n",
            "\t STREAM_PRIORITIES_SUPPORTED: 1\n",
            "\t SURFACE_ALIGNMENT: 512\n",
            "\t TCC_DRIVER: 0\n",
            "\t TEXTURE_ALIGNMENT: 512\n",
            "\t TEXTURE_PITCH_ALIGNMENT: 32\n",
            "\t TOTAL_CONSTANT_MEMORY: 65536\n",
            "\t UNIFIED_ADDRESSING: 1\n",
            "\t WARP_SIZE: 32\n"
          ]
        }
      ]
    },
    {
      "cell_type": "code",
      "source": [
        "from time import time\n",
        "import matplotlib\n",
        "#this will prevent the figure from popping up\n",
        "matplotlib.use('Agg')\n",
        "from matplotlib import pyplot as plt\n",
        "import numpy as np\n",
        "import pycuda.autoinit\n",
        "from pycuda import gpuarray\n",
        "from pycuda.elementwise import ElementwiseKernel\n",
        "\n",
        "mandel_ker = ElementwiseKernel(\n",
        "\"pycuda::complex<float> *lattice, float *mandelbrot_graph, int max_iters, float upper_bound\",\n",
        "\"\"\"\n",
        "mandelbrot_graph[i] = 1;\n",
        "pycuda::complex<float> c = lattice[i]; \n",
        "pycuda::complex<float> z(0,0);\n",
        "for (int j = 0; j < max_iters; j++)\n",
        "    {\n",
        "    \n",
        "     z = z*z + c;\n",
        "     \n",
        "     if(abs(z) > upper_bound)\n",
        "         {\n",
        "          mandelbrot_graph[i] = 0;\n",
        "          break;\n",
        "         }\n",
        "    }\n",
        "         \n",
        "\"\"\",\n",
        "\"mandel_ker\")\n",
        "\n",
        "def gpu_mandelbrot(width, height, real_low, real_high, imag_low, imag_high, max_iters, upper_bound):\n",
        "\n",
        "    # we set up our complex lattice as such\n",
        "    real_vals = np.matrix(np.linspace(real_low, real_high, width), dtype=np.complex64)\n",
        "    imag_vals = np.matrix(np.linspace( imag_high, imag_low, height), dtype=np.complex64) * 1j\n",
        "    mandelbrot_lattice = np.array(real_vals + imag_vals.transpose(), dtype=np.complex64)    \n",
        "    \n",
        "    # copy complex lattice to the GPU\n",
        "    mandelbrot_lattice_gpu = gpuarray.to_gpu(mandelbrot_lattice)\n",
        "\n",
        "    # allocate an empty array on the GPU\n",
        "    mandelbrot_graph_gpu = gpuarray.empty(shape=mandelbrot_lattice.shape, dtype=np.float32)\n",
        "\n",
        "    mandel_ker( mandelbrot_lattice_gpu, mandelbrot_graph_gpu, np.int32(max_iters), np.float32(upper_bound))\n",
        "              \n",
        "    mandelbrot_graph = mandelbrot_graph_gpu.get()\n",
        "    \n",
        "    return mandelbrot_graph\n",
        "\n",
        "\n",
        "if __name__ == '__main__':\n",
        "\n",
        "    t1 = time()\n",
        "    mandel = gpu_mandelbrot(512,512,-2,2,-2,2,256, 2)\n",
        "    t2 = time()\n",
        "\n",
        "    mandel_time = t2 - t1\n",
        "\n",
        "    t1 = time()\n",
        "    fig = plt.figure(1)\n",
        "    plt.imshow(mandel, extent=(-2, 2, -2, 2))\n",
        "    plt.savefig('mandelbrot.png', dpi=fig.dpi)\n",
        "    t2 = time()\n",
        "\n",
        "    dump_time = t2 - t1\n",
        "\n",
        "    print('It took {} seconds to calculate the Mandelbrot graph.'.format(mandel_time))\n",
        "    print('It took {} seconds to dump the image.'.format(dump_time))\n"
      ],
      "metadata": {
        "colab": {
          "base_uri": "https://localhost:8080/"
        },
        "id": "eonIKBQrY8Wi",
        "outputId": "53ef387a-f759-48c8-942d-e09e36edb809"
      },
      "execution_count": 5,
      "outputs": [
        {
          "output_type": "stream",
          "name": "stdout",
          "text": [
            "It took 1.1609761714935303 seconds to calculate the Mandelbrot graph.\n",
            "It took 0.17702960968017578 seconds to dump the image.\n"
          ]
        },
        {
          "output_type": "stream",
          "name": "stderr",
          "text": [
            "/usr/local/lib/python3.7/dist-packages/pycuda/elementwise.py:82: UserWarning: The CUDA compiler succeeded, but said the following:\n",
            "nvcc warning : The 'compute_35', 'compute_37', 'compute_50', 'sm_35', 'sm_37' and 'sm_50' architectures are deprecated, and may be removed in a future release (Use -Wno-deprecated-gpu-targets to suppress warning).\n",
            "\n",
            "  no_extern_c=True,\n"
          ]
        }
      ]
    }
  ]
}